{
  "nbformat": 4,
  "nbformat_minor": 0,
  "metadata": {
    "colab": {
      "provenance": []
    },
    "kernelspec": {
      "name": "python3",
      "display_name": "Python 3"
    },
    "language_info": {
      "name": "python"
    }
  },
  "cells": [
    {
      "cell_type": "code",
      "execution_count": 1,
      "metadata": {
        "id": "pr_ej8B3CpFx"
      },
      "outputs": [],
      "source": [
        "import pandas as pd\n",
        "import numpy as np\n",
        "import matplotlib.pyplot as plt\n",
        "import seaborn as sns\n",
        "import sklearn\n",
        "from sklearn.ensemble import RandomForestClassifier\n",
        "from sklearn.model_selection import train_test_split\n",
        "from sklearn.model_selection import cross_val_score\n",
        "from sklearn.model_selection import GridSearchCV as gs\n",
        "import graphviz "
      ]
    },
    {
      "cell_type": "code",
      "source": [
        "stress = pd.read_csv('sleep_stress.csv')\n",
        "stress_test=stress.copy()\n",
        "stress_test.columns = [\"snoring_rage\", \"respiration_rate\", \"body_temperature\", \"limb_movement_rate\", \"blood_oxygen_levels\", \"eye_movement\", \"number_of_hours_of_sleep\", \"heart_rate\",\"Stress_Levels\" ]\n",
        "stress_test.loc[stress_test['Stress_Levels'] >=1, 'Stress_Levels'] = 1\n"
      ],
      "metadata": {
        "id": "kNVL8fT-NxNP"
      },
      "execution_count": 3,
      "outputs": []
    },
    {
      "cell_type": "code",
      "source": [
        "#불균형 문제 해소\n",
        "from imblearn.over_sampling import SMOTE\n",
        "from collections import Counter\n",
        "from sklearn.datasets import make_classification\n",
        "from matplotlib import pyplot\n",
        "from numpy import where\n",
        "smote = SMOTE()\n",
        "X = stress_test.iloc[:,:8]\n",
        "Y = stress_test[\"Stress_Levels\"]\n",
        "x, y = smote.fit_resample(X, Y)\n",
        "print(sorted(Counter(y).items()))\n",
        "stress_b = pd.DataFrame(x, columns=x.columns)\n",
        "stress_clue = y.to_frame()\n",
        "# st = pd.concat([stress_b, stress_clue],join=\"outer\")\n",
        "st = stress_b.join(stress_clue)\n",
        "st.head()"
      ],
      "metadata": {
        "colab": {
          "base_uri": "https://localhost:8080/",
          "height": 268
        },
        "id": "5IwwtIZqOjb4",
        "outputId": "5419e067-6795-4075-8d74-785161f1f0c7"
      },
      "execution_count": 4,
      "outputs": [
        {
          "output_type": "stream",
          "name": "stdout",
          "text": [
            "[(0, 504), (1, 504)]\n"
          ]
        },
        {
          "output_type": "execute_result",
          "data": {
            "text/plain": [
              "   snoring_rage  respiration_rate  body_temperature  limb_movement_rate  \\\n",
              "0         93.80            25.680            91.840              16.600   \n",
              "1         91.64            25.104            91.552              15.880   \n",
              "2         60.00            20.000            96.000              10.000   \n",
              "3         85.76            23.536            90.768              13.920   \n",
              "4         48.12            17.248            97.872               6.496   \n",
              "\n",
              "   blood_oxygen_levels  eye_movement  number_of_hours_of_sleep  heart_rate  \\\n",
              "0               89.840         99.60                     1.840       74.20   \n",
              "1               89.552         98.88                     1.552       72.76   \n",
              "2               95.000         85.00                     7.000       60.00   \n",
              "3               88.768         96.92                     0.768       68.84   \n",
              "4               96.248         72.48                     8.248       53.12   \n",
              "\n",
              "   Stress_Levels  \n",
              "0              1  \n",
              "1              1  \n",
              "2              1  \n",
              "3              1  \n",
              "4              0  "
            ],
            "text/html": [
              "\n",
              "  <div id=\"df-63cdf5a3-8714-4600-b3ed-0300dce048a4\">\n",
              "    <div class=\"colab-df-container\">\n",
              "      <div>\n",
              "<style scoped>\n",
              "    .dataframe tbody tr th:only-of-type {\n",
              "        vertical-align: middle;\n",
              "    }\n",
              "\n",
              "    .dataframe tbody tr th {\n",
              "        vertical-align: top;\n",
              "    }\n",
              "\n",
              "    .dataframe thead th {\n",
              "        text-align: right;\n",
              "    }\n",
              "</style>\n",
              "<table border=\"1\" class=\"dataframe\">\n",
              "  <thead>\n",
              "    <tr style=\"text-align: right;\">\n",
              "      <th></th>\n",
              "      <th>snoring_rage</th>\n",
              "      <th>respiration_rate</th>\n",
              "      <th>body_temperature</th>\n",
              "      <th>limb_movement_rate</th>\n",
              "      <th>blood_oxygen_levels</th>\n",
              "      <th>eye_movement</th>\n",
              "      <th>number_of_hours_of_sleep</th>\n",
              "      <th>heart_rate</th>\n",
              "      <th>Stress_Levels</th>\n",
              "    </tr>\n",
              "  </thead>\n",
              "  <tbody>\n",
              "    <tr>\n",
              "      <th>0</th>\n",
              "      <td>93.80</td>\n",
              "      <td>25.680</td>\n",
              "      <td>91.840</td>\n",
              "      <td>16.600</td>\n",
              "      <td>89.840</td>\n",
              "      <td>99.60</td>\n",
              "      <td>1.840</td>\n",
              "      <td>74.20</td>\n",
              "      <td>1</td>\n",
              "    </tr>\n",
              "    <tr>\n",
              "      <th>1</th>\n",
              "      <td>91.64</td>\n",
              "      <td>25.104</td>\n",
              "      <td>91.552</td>\n",
              "      <td>15.880</td>\n",
              "      <td>89.552</td>\n",
              "      <td>98.88</td>\n",
              "      <td>1.552</td>\n",
              "      <td>72.76</td>\n",
              "      <td>1</td>\n",
              "    </tr>\n",
              "    <tr>\n",
              "      <th>2</th>\n",
              "      <td>60.00</td>\n",
              "      <td>20.000</td>\n",
              "      <td>96.000</td>\n",
              "      <td>10.000</td>\n",
              "      <td>95.000</td>\n",
              "      <td>85.00</td>\n",
              "      <td>7.000</td>\n",
              "      <td>60.00</td>\n",
              "      <td>1</td>\n",
              "    </tr>\n",
              "    <tr>\n",
              "      <th>3</th>\n",
              "      <td>85.76</td>\n",
              "      <td>23.536</td>\n",
              "      <td>90.768</td>\n",
              "      <td>13.920</td>\n",
              "      <td>88.768</td>\n",
              "      <td>96.92</td>\n",
              "      <td>0.768</td>\n",
              "      <td>68.84</td>\n",
              "      <td>1</td>\n",
              "    </tr>\n",
              "    <tr>\n",
              "      <th>4</th>\n",
              "      <td>48.12</td>\n",
              "      <td>17.248</td>\n",
              "      <td>97.872</td>\n",
              "      <td>6.496</td>\n",
              "      <td>96.248</td>\n",
              "      <td>72.48</td>\n",
              "      <td>8.248</td>\n",
              "      <td>53.12</td>\n",
              "      <td>0</td>\n",
              "    </tr>\n",
              "  </tbody>\n",
              "</table>\n",
              "</div>\n",
              "      <button class=\"colab-df-convert\" onclick=\"convertToInteractive('df-63cdf5a3-8714-4600-b3ed-0300dce048a4')\"\n",
              "              title=\"Convert this dataframe to an interactive table.\"\n",
              "              style=\"display:none;\">\n",
              "        \n",
              "  <svg xmlns=\"http://www.w3.org/2000/svg\" height=\"24px\"viewBox=\"0 0 24 24\"\n",
              "       width=\"24px\">\n",
              "    <path d=\"M0 0h24v24H0V0z\" fill=\"none\"/>\n",
              "    <path d=\"M18.56 5.44l.94 2.06.94-2.06 2.06-.94-2.06-.94-.94-2.06-.94 2.06-2.06.94zm-11 1L8.5 8.5l.94-2.06 2.06-.94-2.06-.94L8.5 2.5l-.94 2.06-2.06.94zm10 10l.94 2.06.94-2.06 2.06-.94-2.06-.94-.94-2.06-.94 2.06-2.06.94z\"/><path d=\"M17.41 7.96l-1.37-1.37c-.4-.4-.92-.59-1.43-.59-.52 0-1.04.2-1.43.59L10.3 9.45l-7.72 7.72c-.78.78-.78 2.05 0 2.83L4 21.41c.39.39.9.59 1.41.59.51 0 1.02-.2 1.41-.59l7.78-7.78 2.81-2.81c.8-.78.8-2.07 0-2.86zM5.41 20L4 18.59l7.72-7.72 1.47 1.35L5.41 20z\"/>\n",
              "  </svg>\n",
              "      </button>\n",
              "      \n",
              "  <style>\n",
              "    .colab-df-container {\n",
              "      display:flex;\n",
              "      flex-wrap:wrap;\n",
              "      gap: 12px;\n",
              "    }\n",
              "\n",
              "    .colab-df-convert {\n",
              "      background-color: #E8F0FE;\n",
              "      border: none;\n",
              "      border-radius: 50%;\n",
              "      cursor: pointer;\n",
              "      display: none;\n",
              "      fill: #1967D2;\n",
              "      height: 32px;\n",
              "      padding: 0 0 0 0;\n",
              "      width: 32px;\n",
              "    }\n",
              "\n",
              "    .colab-df-convert:hover {\n",
              "      background-color: #E2EBFA;\n",
              "      box-shadow: 0px 1px 2px rgba(60, 64, 67, 0.3), 0px 1px 3px 1px rgba(60, 64, 67, 0.15);\n",
              "      fill: #174EA6;\n",
              "    }\n",
              "\n",
              "    [theme=dark] .colab-df-convert {\n",
              "      background-color: #3B4455;\n",
              "      fill: #D2E3FC;\n",
              "    }\n",
              "\n",
              "    [theme=dark] .colab-df-convert:hover {\n",
              "      background-color: #434B5C;\n",
              "      box-shadow: 0px 1px 3px 1px rgba(0, 0, 0, 0.15);\n",
              "      filter: drop-shadow(0px 1px 2px rgba(0, 0, 0, 0.3));\n",
              "      fill: #FFFFFF;\n",
              "    }\n",
              "  </style>\n",
              "\n",
              "      <script>\n",
              "        const buttonEl =\n",
              "          document.querySelector('#df-63cdf5a3-8714-4600-b3ed-0300dce048a4 button.colab-df-convert');\n",
              "        buttonEl.style.display =\n",
              "          google.colab.kernel.accessAllowed ? 'block' : 'none';\n",
              "\n",
              "        async function convertToInteractive(key) {\n",
              "          const element = document.querySelector('#df-63cdf5a3-8714-4600-b3ed-0300dce048a4');\n",
              "          const dataTable =\n",
              "            await google.colab.kernel.invokeFunction('convertToInteractive',\n",
              "                                                     [key], {});\n",
              "          if (!dataTable) return;\n",
              "\n",
              "          const docLinkHtml = 'Like what you see? Visit the ' +\n",
              "            '<a target=\"_blank\" href=https://colab.research.google.com/notebooks/data_table.ipynb>data table notebook</a>'\n",
              "            + ' to learn more about interactive tables.';\n",
              "          element.innerHTML = '';\n",
              "          dataTable['output_type'] = 'display_data';\n",
              "          await google.colab.output.renderOutput(dataTable, element);\n",
              "          const docLink = document.createElement('div');\n",
              "          docLink.innerHTML = docLinkHtml;\n",
              "          element.appendChild(docLink);\n",
              "        }\n",
              "      </script>\n",
              "    </div>\n",
              "  </div>\n",
              "  "
            ]
          },
          "metadata": {},
          "execution_count": 4
        }
      ]
    },
    {
      "cell_type": "code",
      "source": [
        "from sklearn.metrics import classification_report, roc_curve, auc\n",
        "xtrain,xtest,ytrain,ytest = train_test_split(X,Y,test_size=0.2)\n",
        "treee = sklearn.tree.DecisionTreeClassifier(criterion=\"entropy\")\n",
        "treee.fit(xtrain, ytrain)\n",
        "out = sklearn.tree.plot_tree(treee, feature_names=X.columns, filled=True, rounded=True)\n",
        "Y_pred=treee.predict(xtest)\n",
        "fpr, tpr, thresholds = roc_curve(ytest, Y_pred)\n",
        "print(\"Area Under the Curve (AUC): \",auc(fpr, tpr))\n",
        "print(classification_report(ytest, Y_pred))"
      ],
      "metadata": {
        "colab": {
          "base_uri": "https://localhost:8080/",
          "height": 589
        },
        "id": "XI-r-DqOPGL4",
        "outputId": "7741f7ba-49b2-43e9-f6f7-3617003c611a"
      },
      "execution_count": 5,
      "outputs": [
        {
          "output_type": "stream",
          "name": "stdout",
          "text": [
            "Area Under the Curve (AUC):  1.0\n",
            "              precision    recall  f1-score   support\n",
            "\n",
            "           0       1.00      1.00      1.00        25\n",
            "           1       1.00      1.00      1.00       101\n",
            "\n",
            "    accuracy                           1.00       126\n",
            "   macro avg       1.00      1.00      1.00       126\n",
            "weighted avg       1.00      1.00      1.00       126\n",
            "\n"
          ]
        },
        {
          "output_type": "display_data",
          "data": {
            "text/plain": [
              "<Figure size 640x480 with 1 Axes>"
            ],
            "image/png": "[encoded data removed]"
          },
          "metadata": {}
        }
      ]
    },
    {
      "cell_type": "code",
      "source": [
        "#st = dataframe\n",
        "feat = st.columns.values.tolist()\n",
        "def colorDT(clf, feat):\n",
        "  def make_col(tree, node):\n",
        "    if tree.tree_.value[node][0][0]>tree.tree_.value[node][0][1]:\n",
        "      col=\"#e68938\"\n",
        "    elif tree.tree_.value[node][0][0]==tree.tree_.value[node][0][1]:\n",
        "      col=\"grey\"\n",
        "    else:\n",
        "      col=\"#00bfff\"\n",
        "    return col\n",
        "#define edge colors\n",
        "  def make_col_edge(node, right=True):\n",
        "    if not right:\n",
        "      if (clf.tree_.value[clf.tree_.children_left[i]][0][0]/(clf.tree_.value[clf.tree_.children_left[i]][0][0]+clf.tree_.value[clf.tree_.children_left[i]][0][1])) > clf.tree_.value[i][0][0]/(clf.tree_.value[i][0][0]+clf.tree_.value[i][0][1]):\n",
        "        col=\"red\"\n",
        "      else:\n",
        "        col=\"blue\"\n",
        "    if right:\n",
        "      if (clf.tree_.value[clf.tree_.children_right[i]][0][0]/(clf.tree_.value[clf.tree_.children_right[i]][0][0]+clf.tree_.value[clf.tree_.children_right[i]][0][1])) > clf.tree_.value[i][0][0]/(clf.tree_.value[i][0][0]+clf.tree_.value[i][0][1]):\n",
        "        col=\"red\"\n",
        "      else:\n",
        "        col=\"blue\"\n",
        "    return col\n",
        "  Tree = graphviz.Graph('tree', format='svg') \n",
        "  Tree.edge_attr.update(dir=\"forward\")\n",
        "  Tree.edge_attr.update(arrowhead=\"vee\")\n",
        "  Tree.node_attr.update(shape=\"cylinder\")\n",
        "  node = clf.tree_.node_count\n",
        "  nodes=np.arange(0, node, 1)\n",
        "  for i in nodes:\n",
        "    parent = f'{feat[clf.tree_.feature[i]]}<={round(clf.tree_.threshold[i],3)}\\nentropy={round(clf.tree_.impurity[i],3)}\\nvalue={clf.tree_.value[i][0]}'\n",
        "    if clf.tree_.children_left[i]!=-1:\n",
        "      if clf.tree_.children_left[clf.tree_.children_left[i]]!=-1:\n",
        "          left = f'{feat[clf.tree_.feature[clf.tree_.children_left[i]]]}<={round(clf.tree_.threshold[clf.tree_.children_left[i]],3)}\\nentropy={round(clf.tree_.impurity[clf.tree_.children_left[i]],3)}\\nvalue={clf.tree_.value[clf.tree_.children_left[i]][0]}'\n",
        "      else: \n",
        "        left = f'entropy={round(clf.tree_.impurity[clf.tree_.children_left[i]],3)}\\nvalue={clf.tree_.value[clf.tree_.children_left[i]][0]}'\n",
        "        Tree.node(left, style='filled', color=make_col(clf, clf.tree_.children_left[i]), shape='rect')\n",
        "      if clf.tree_.impurity[i]>clf.tree_.impurity[clf.tree_.children_left[i]]:\n",
        "        Tree.node(parent, style='filled', color=make_col(clf, i))\n",
        "        Tree.edge(parent, left, color=make_col_edge(i,right=False))\n",
        "        Tree.edge(parent, left, color=make_col_edge(i,right=False))\n",
        "      else:\n",
        "        Tree.node(parent, style='filled', color=make_col(clf, i))\n",
        "        Tree.edge(parent, left, color=make_col_edge(i,right=False))\n",
        "    if clf.tree_.children_right[i]!=-1:\n",
        "      if clf.tree_.children_left[clf.tree_.children_right[i]]!=-1:\n",
        "        right = f'{feat[clf.tree_.feature[clf.tree_.children_right[i]]]}<={round(clf.tree_.threshold[clf.tree_.children_right[i]],3)}\\nentropy={round(clf.tree_.impurity[clf.tree_.children_right[i]],3)}\\nvalue={clf.tree_.value[clf.tree_.children_right[i]][0]}'\n",
        "      else: \n",
        "        right = f'entropy={round(clf.tree_.impurity[clf.tree_.children_right[i]],3)}\\nvalue={clf.tree_.value[clf.tree_.children_right[i]][0]}'\n",
        "        Tree.node(right, style='filled', color=make_col(clf, clf.tree_.children_right[i]), shape='rect')\n",
        "      if clf.tree_.impurity[i]>clf.tree_.impurity[clf.tree_.children_right[i]]:\n",
        "        Tree.edge(parent, right, color=make_col_edge(i,right=True))\n",
        "        Tree.edge(parent, right, color=make_col_edge(i,right=True))\n",
        "      else:\n",
        "        Tree.edge(parent, right, color=make_col_edge(i,right=True))\n",
        "  return Tree"
      ],
      "metadata": {
        "id": "_zNBaxFmDdr_"
      },
      "execution_count": 7,
      "outputs": []
    },
    {
      "cell_type": "code",
      "source": [
        "a = colorDT(treee, feat)\n",
        "a"
      ],
      "metadata": {
        "colab": {
          "base_uri": "https://localhost:8080/",
          "height": 372
        },
        "id": "vJ6jwCKELvYY",
        "outputId": "4d98eb9d-46d2-41f4-95c4-c8ac7f08c7c0"
      },
      "execution_count": 9,
      "outputs": [
        {
          "output_type": "execute_result",
          "data": {
            "image/svg+xml": "<?xml version=\"1.0\" encoding=\"UTF-8\" standalone=\"no\"?>\n<!DOCTYPE svg PUBLIC \"-//W3C//DTD SVG 1.1//EN\"\n \"http://www.w3.org/Graphics/SVG/1.1/DTD/svg11.dtd\">\n<!-- Generated by graphviz version 2.43.0 (0)\n -->\n<!-- Title: tree Pages: 1 -->\n<svg width=\"293pt\" height=\"264pt\"\n viewBox=\"0.00 0.00 292.50 263.75\" xmlns=\"http://www.w3.org/2000/svg\" xmlns:xlink=\"http://www.w3.org/1999/xlink\">\n<g id=\"graph0\" class=\"graph\" transform=\"scale(1 1) rotate(0) translate(4 259.75)\">\n<title>tree</title>\n<polygon fill=\"white\" stroke=\"transparent\" points=\"-4,4 -4,-259.75 288.5,-259.75 288.5,4 -4,4\"/>\n<!-- entropy=0.0\nvalue=[ &#160;0. 402.] -->\n<g id=\"node1\" class=\"node\">\n<title>entropy=0.0\nvalue=[ &#160;0. 402.]</title>\n<polygon fill=\"#00bfff\" stroke=\"#00bfff\" points=\"109,-129.44 0,-129.44 0,-91.44 109,-91.44 109,-129.44\"/>\n<text text-anchor=\"middle\" x=\"54.5\" y=\"-114.24\" font-family=\"Times,serif\" font-size=\"14.00\">entropy=0.0</text>\n<text text-anchor=\"middle\" x=\"54.5\" y=\"-99.24\" font-family=\"Times,serif\" font-size=\"14.00\">value=[ &#160;0. 402.]</text>\n</g>\n<!-- body_temperature&lt;=95.992\nentropy=0.723\nvalue=[101. 403.] -->\n<g id=\"node2\" class=\"node\">\n<title>body_temperature&lt;=95.992\nentropy=0.723\nvalue=[101. 403.]</title>\n<path fill=\"#00bfff\" stroke=\"#00bfff\" d=\"M203.5,-249.07C203.5,-252.72 165.4,-255.69 118.5,-255.69 71.6,-255.69 33.5,-252.72 33.5,-249.07 33.5,-249.07 33.5,-189.55 33.5,-189.55 33.5,-185.9 71.6,-182.94 118.5,-182.94 165.4,-182.94 203.5,-185.9 203.5,-189.55 203.5,-189.55 203.5,-249.07 203.5,-249.07\"/>\n<path fill=\"none\" stroke=\"#00bfff\" d=\"M203.5,-249.07C203.5,-245.42 165.4,-242.46 118.5,-242.46 71.6,-242.46 33.5,-245.42 33.5,-249.07\"/>\n<text text-anchor=\"middle\" x=\"118.5\" y=\"-230.61\" font-family=\"Times,serif\" font-size=\"14.00\">body_temperature&lt;=95.992</text>\n<text text-anchor=\"middle\" x=\"118.5\" y=\"-215.61\" font-family=\"Times,serif\" font-size=\"14.00\">entropy=0.723</text>\n<text text-anchor=\"middle\" x=\"118.5\" y=\"-200.61\" font-family=\"Times,serif\" font-size=\"14.00\">value=[101. 403.]</text>\n</g>\n<!-- body_temperature&lt;=95.992\nentropy=0.723\nvalue=[101. 403.]&#45;&#45;entropy=0.0\nvalue=[ &#160;0. 402.] -->\n<g id=\"edge1\" class=\"edge\">\n<title>body_temperature&lt;=95.992\nentropy=0.723\nvalue=[101. 403.]&#45;&#45;entropy=0.0\nvalue=[ &#160;0. 402.]</title>\n<path fill=\"none\" stroke=\"blue\" d=\"M90.79,-182.72C81.6,-168.36 71.98,-152.05 64.83,-138.66\"/>\n<polygon fill=\"blue\" stroke=\"blue\" points=\"60.1,-129.49 68.69,-136.32 62.4,-133.94 64.69,-138.38 64.69,-138.38 64.69,-138.38 62.4,-133.94 60.69,-140.44 60.1,-129.49 60.1,-129.49\"/>\n</g>\n<!-- body_temperature&lt;=95.992\nentropy=0.723\nvalue=[101. 403.]&#45;&#45;entropy=0.0\nvalue=[ &#160;0. 402.] -->\n<g id=\"edge2\" class=\"edge\">\n<title>body_temperature&lt;=95.992\nentropy=0.723\nvalue=[101. 403.]&#45;&#45;entropy=0.0\nvalue=[ &#160;0. 402.]</title>\n<path fill=\"none\" stroke=\"blue\" d=\"M103.59,-182.72C95.41,-168.08 85.27,-151.41 76.25,-137.88\"/>\n<polygon fill=\"blue\" stroke=\"blue\" points=\"70.52,-129.49 79.88,-135.21 73.34,-133.62 76.16,-137.75 76.16,-137.75 76.16,-137.75 73.34,-133.62 72.45,-140.29 70.52,-129.49 70.52,-129.49\"/>\n</g>\n<!-- heart_rate&lt;=57.5\nentropy=0.079\nvalue=[101. &#160;&#160;1.] -->\n<g id=\"node3\" class=\"node\">\n<title>heart_rate&lt;=57.5\nentropy=0.079\nvalue=[101. &#160;&#160;1.]</title>\n<path fill=\"#e68938\" stroke=\"#e68938\" d=\"M238,-140.2C238,-143.85 213.12,-146.81 182.5,-146.81 151.88,-146.81 127,-143.85 127,-140.2 127,-140.2 127,-80.68 127,-80.68 127,-77.03 151.88,-74.06 182.5,-74.06 213.12,-74.06 238,-77.03 238,-80.68 238,-80.68 238,-140.2 238,-140.2\"/>\n<path fill=\"none\" stroke=\"#e68938\" d=\"M238,-140.2C238,-136.55 213.12,-133.59 182.5,-133.59 151.88,-133.59 127,-136.55 127,-140.2\"/>\n<text text-anchor=\"middle\" x=\"182.5\" y=\"-121.74\" font-family=\"Times,serif\" font-size=\"14.00\">heart_rate&lt;=57.5</text>\n<text text-anchor=\"middle\" x=\"182.5\" y=\"-106.74\" font-family=\"Times,serif\" font-size=\"14.00\">entropy=0.079</text>\n<text text-anchor=\"middle\" x=\"182.5\" y=\"-91.74\" font-family=\"Times,serif\" font-size=\"14.00\">value=[101. &#160;&#160;1.]</text>\n</g>\n<!-- body_temperature&lt;=95.992\nentropy=0.723\nvalue=[101. 403.]&#45;&#45;heart_rate&lt;=57.5\nentropy=0.079\nvalue=[101. &#160;&#160;1.] -->\n<g id=\"edge3\" class=\"edge\">\n<title>body_temperature&lt;=95.992\nentropy=0.723\nvalue=[101. 403.]&#45;&#45;heart_rate&lt;=57.5\nentropy=0.079\nvalue=[101. &#160;&#160;1.]</title>\n<path fill=\"none\" stroke=\"red\" d=\"M133.41,-182.72C138.29,-173.98 143.87,-164.52 149.5,-155.43\"/>\n<polygon fill=\"red\" stroke=\"red\" points=\"154.88,-146.87 153.37,-157.73 152.22,-151.1 149.56,-155.33 149.56,-155.33 149.56,-155.33 152.22,-151.1 145.75,-152.94 154.88,-146.87 154.88,-146.87\"/>\n</g>\n<!-- body_temperature&lt;=95.992\nentropy=0.723\nvalue=[101. 403.]&#45;&#45;heart_rate&lt;=57.5\nentropy=0.079\nvalue=[101. &#160;&#160;1.] -->\n<g id=\"edge4\" class=\"edge\">\n<title>body_temperature&lt;=95.992\nentropy=0.723\nvalue=[101. 403.]&#45;&#45;heart_rate&lt;=57.5\nentropy=0.079\nvalue=[101. &#160;&#160;1.]</title>\n<path fill=\"none\" stroke=\"red\" d=\"M146.21,-182.72C151.74,-174.07 157.43,-164.71 162.65,-155.71\"/>\n<polygon fill=\"red\" stroke=\"red\" points=\"167.68,-146.87 166.64,-157.79 165.21,-151.22 162.73,-155.56 162.73,-155.56 162.73,-155.56 165.21,-151.22 158.82,-153.34 167.68,-146.87 167.68,-146.87\"/>\n</g>\n<!-- entropy=0.0\nvalue=[101. &#160;&#160;0.] -->\n<g id=\"node4\" class=\"node\">\n<title>entropy=0.0\nvalue=[101. &#160;&#160;0.]</title>\n<polygon fill=\"#e68938\" stroke=\"#e68938\" points=\"178,-38 69,-38 69,0 178,0 178,-38\"/>\n<text text-anchor=\"middle\" x=\"123.5\" y=\"-22.8\" font-family=\"Times,serif\" font-size=\"14.00\">entropy=0.0</text>\n<text text-anchor=\"middle\" x=\"123.5\" y=\"-7.8\" font-family=\"Times,serif\" font-size=\"14.00\">value=[101. &#160;&#160;0.]</text>\n</g>\n<!-- heart_rate&lt;=57.5\nentropy=0.079\nvalue=[101. &#160;&#160;1.]&#45;&#45;entropy=0.0\nvalue=[101. &#160;&#160;0.] -->\n<g id=\"edge5\" class=\"edge\">\n<title>heart_rate&lt;=57.5\nentropy=0.079\nvalue=[101. &#160;&#160;1.]&#45;&#45;entropy=0.0\nvalue=[101. &#160;&#160;0.]</title>\n<path fill=\"none\" stroke=\"red\" d=\"M152.39,-73.83C146.19,-64.82 140.03,-55.29 134.93,-46.79\"/>\n<polygon fill=\"red\" stroke=\"red\" points=\"129.86,-38.05 138.77,-44.44 132.37,-42.38 134.88,-46.7 134.88,-46.7 134.88,-46.7 132.37,-42.38 130.99,-48.96 129.86,-38.05 129.86,-38.05\"/>\n</g>\n<!-- heart_rate&lt;=57.5\nentropy=0.079\nvalue=[101. &#160;&#160;1.]&#45;&#45;entropy=0.0\nvalue=[101. &#160;&#160;0.] -->\n<g id=\"edge6\" class=\"edge\">\n<title>heart_rate&lt;=57.5\nentropy=0.079\nvalue=[101. &#160;&#160;1.]&#45;&#45;entropy=0.0\nvalue=[101. &#160;&#160;0.]</title>\n<path fill=\"none\" stroke=\"red\" d=\"M165.64,-73.83C159.82,-64.63 153.25,-54.88 147.03,-46.25\"/>\n<polygon fill=\"red\" stroke=\"red\" points=\"140.95,-38.05 150.52,-43.41 143.93,-42.07 146.9,-46.09 146.9,-46.09 146.9,-46.09 143.93,-42.07 143.29,-48.76 140.95,-38.05 140.95,-38.05\"/>\n</g>\n<!-- entropy=0.0\nvalue=[0. 1.] -->\n<g id=\"node5\" class=\"node\">\n<title>entropy=0.0\nvalue=[0. 1.]</title>\n<polygon fill=\"#00bfff\" stroke=\"#00bfff\" points=\"284.5,-38 196.5,-38 196.5,0 284.5,0 284.5,-38\"/>\n<text text-anchor=\"middle\" x=\"240.5\" y=\"-22.8\" font-family=\"Times,serif\" font-size=\"14.00\">entropy=0.0</text>\n<text text-anchor=\"middle\" x=\"240.5\" y=\"-7.8\" font-family=\"Times,serif\" font-size=\"14.00\">value=[0. 1.]</text>\n</g>\n<!-- heart_rate&lt;=57.5\nentropy=0.079\nvalue=[101. &#160;&#160;1.]&#45;&#45;entropy=0.0\nvalue=[0. 1.] -->\n<g id=\"edge7\" class=\"edge\">\n<title>heart_rate&lt;=57.5\nentropy=0.079\nvalue=[101. &#160;&#160;1.]&#45;&#45;entropy=0.0\nvalue=[0. 1.]</title>\n<path fill=\"none\" stroke=\"blue\" d=\"M198.97,-73.83C204.68,-64.63 211.14,-54.88 217.27,-46.25\"/>\n<polygon fill=\"blue\" stroke=\"blue\" points=\"223.25,-38.05 220.99,-48.78 220.3,-42.09 217.36,-46.13 217.36,-46.13 217.36,-46.13 220.3,-42.09 213.72,-43.48 223.25,-38.05 223.25,-38.05\"/>\n</g>\n<!-- heart_rate&lt;=57.5\nentropy=0.079\nvalue=[101. &#160;&#160;1.]&#45;&#45;entropy=0.0\nvalue=[0. 1.] -->\n<g id=\"edge8\" class=\"edge\">\n<title>heart_rate&lt;=57.5\nentropy=0.079\nvalue=[101. &#160;&#160;1.]&#45;&#45;entropy=0.0\nvalue=[0. 1.]</title>\n<path fill=\"none\" stroke=\"blue\" d=\"M212.21,-73.83C218.31,-64.82 224.37,-55.29 229.37,-46.79\"/>\n<polygon fill=\"blue\" stroke=\"blue\" points=\"234.34,-38.05 233.31,-48.97 231.87,-42.4 229.4,-46.74 229.4,-46.74 229.4,-46.74 231.87,-42.4 225.48,-44.52 234.34,-38.05 234.34,-38.05\"/>\n</g>\n</g>\n</svg>\n",
            "text/plain": [
              "<graphviz.graphs.Graph at 0x7fc074d0c100>"
            ]
          },
          "metadata": {},
          "execution_count": 9
        }
      ]
    }
  ]
}